{
 "cells": [
  {
   "cell_type": "code",
   "execution_count": 12,
   "metadata": {},
   "outputs": [],
   "source": [
    "import random\n",
    "import string\n",
    "\n",
    "# Definir el objetivo\n",
    "target = \"hola\"\n",
    "\n",
    "# Definir la función de evaluación\n",
    "def evaluate_string(string1):\n",
    "    fitness = 0\n",
    "    for i in range(len(target)):\n",
    "        if string1[i] == target[i]:\n",
    "            fitness += 1\n",
    "    return fitness\n",
    "\n",
    "# Generar la población inicial\n",
    "def generate_population(population_size, string_length):\n",
    "    population = []\n",
    "    for i in range(population_size):\n",
    "        string1 = ''.join(random.choices(string.ascii_lowercase, k=string_length))\n",
    "        population.append(string1)\n",
    "    return population\n",
    "\n",
    "# Operador de selección\n",
    "def selection(population, num_parents):\n",
    "    sorted_pop = sorted(population, key=lambda x: evaluate_string(x), reverse=True)\n",
    "    return sorted_pop[:num_parents]\n",
    "\n",
    "# Operador de cruzamiento\n",
    "def crossover(parents, offspring_size):\n",
    "    offspring = []\n",
    "    for i in range(offspring_size):\n",
    "        parent1 = parents[random.randint(0, len(parents)-1)]\n",
    "        parent2 = parents[random.randint(0, len(parents)-1)]\n",
    "        split_point = random.randint(1, len(parent1)-1)\n",
    "        offspring_string = parent1[:split_point] + parent2[split_point:]\n",
    "        offspring.append(offspring_string)\n",
    "    return offspring\n",
    "\n",
    "# Operador de mutación\n",
    "def mutation(offspring, mutation_rate):\n",
    "    mutated_offspring = []\n",
    "    for i in range(len(offspring)):\n",
    "        string1 = offspring[i]\n",
    "        mutated_string = \"\"\n",
    "        for j in range(len(string1)):\n",
    "            if random.random() < mutation_rate:\n",
    "                mutated_string += random.choice(string.ascii_lowercase)\n",
    "            else:\n",
    "                mutated_string += string1[j]\n",
    "        mutated_offspring.append(mutated_string)\n",
    "    return mutated_offspring\n"
   ]
  },
  {
   "cell_type": "code",
   "execution_count": 13,
   "metadata": {},
   "outputs": [
    {
     "name": "stdout",
     "output_type": "stream",
     "text": [
      "Generación: 1 | Mejor cadena de texto: mela | Fitness: 2\n",
      "Generación: 2 | Mejor cadena de texto: hbla | Fitness: 3\n",
      "Generación: 3 | Mejor cadena de texto: hbla | Fitness: 3\n",
      "Generación: 4 | Mejor cadena de texto: hbla | Fitness: 3\n",
      "Generación: 5 | Mejor cadena de texto: hbla | Fitness: 3\n",
      "Generación: 6 | Mejor cadena de texto: hola | Fitness: 4\n"
     ]
    }
   ],
   "source": [
    "# Ejecutar el algoritmo genético\n",
    "population_size = 100\n",
    "string_length = 4\n",
    "num_parents = 50\n",
    "offspring_size = 50\n",
    "mutation_rate = 0.1\n",
    "num_generations = 100\n",
    "\n",
    "population = generate_population(population_size, string_length)\n",
    "for i in range(num_generations):\n",
    "    # Seleccionar los padres\n",
    "    parents = selection(population, num_parents)\n",
    "    \n",
    "    # Generar los hijos\n",
    "    offspring = crossover(parents, offspring_size)\n",
    "    \n",
    "    # Aplicar mutación\n",
    "    mutated_offspring = mutation(offspring, mutation_rate)\n",
    "    \n",
    "    # Unir la población actual y la nueva\n",
    "    population = parents + mutated_offspring\n",
    "    \n",
    "    # Evaluar la población actual\n",
    "    fitness_scores = [evaluate_string(s) for s in population]\n",
    "    best_score = max(fitness_scores)\n",
    "    \n",
    "    # Imprimir la mejor cadena de texto y su puntaje de fitness\n",
    "    best_string = population[fitness_scores.index(best_score)]\n",
    "    print(\"Generación:\", i+1, \"| Mejor cadena de texto:\", best_string, \"| Fitness:\", best_score)\n",
    "    \n",
    "    # Si se ha encontrado una cadena de texto perfecta, terminar la ejecución del algoritmo\n",
    "    if best_score == string_length:\n",
    "        break"
   ]
  },
  {
   "cell_type": "code",
   "execution_count": 5,
   "metadata": {},
   "outputs": [
    {
     "name": "stdout",
     "output_type": "stream",
     "text": [
      "abcdefghijklmnopqrstuvwxyz\n"
     ]
    }
   ],
   "source": [
    "# import string library function \n",
    "import string \n",
    "    \n",
    "# Storing the value in variable result \n",
    "result = string.ascii_lowercase\n",
    "    \n",
    "# Printing the value \n",
    "print(result) "
   ]
  }
 ],
 "metadata": {
  "kernelspec": {
   "display_name": "homeworks",
   "language": "python",
   "name": "python3"
  },
  "language_info": {
   "codemirror_mode": {
    "name": "ipython",
    "version": 3
   },
   "file_extension": ".py",
   "mimetype": "text/x-python",
   "name": "python",
   "nbconvert_exporter": "python",
   "pygments_lexer": "ipython3",
   "version": "3.11.2"
  },
  "orig_nbformat": 4,
  "vscode": {
   "interpreter": {
    "hash": "49e69bb4716113a91a66de989ea890dd75964954426edc72a646151dbf8fe411"
   }
  }
 },
 "nbformat": 4,
 "nbformat_minor": 2
}
