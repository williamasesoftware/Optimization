{
 "cells": [
  {
   "cell_type": "code",
   "execution_count": 1,
   "metadata": {},
   "outputs": [],
   "source": [
    "import random\n",
    "import math\n",
    "\n",
    "def fitness(x, y):\n",
    "    z = 3 * (1 - x) ** 2 * (math.exp(-x ** 2 - (y + 1) ** 2)) - 10 * (x / 5 - x ** 3 - y ** 5) * (math.exp(-x ** 2 - y ** 2)) - 1 / 3 * (math.exp(-(x + 1) ** 2 - y ** 2))\n",
    "    return z\n",
    "\n",
    "def decode(binary):\n",
    "    x = -3 + int(binary[:8], 2) * 6 / (2 ** 8 - 1)\n",
    "    y = -3 + int(binary[8:], 2) * 6 / (2 ** 8 - 1)\n",
    "    return x, y\n",
    "\n",
    "def encode(x, y):\n",
    "    x = int((x + 3) * (2 ** 8 - 1) / 6)\n",
    "    y = int((y + 3) * (2 ** 8 - 1) / 6)\n",
    "    x = format(x, '08b')\n",
    "    y = format(y, '08b')\n",
    "    return x + y\n",
    "\n",
    "def roulette_wheel_selection(population):\n",
    "    fitness_sum = sum([individual[1] for individual in population])\n",
    "    rand_num = random.uniform(0, fitness_sum)\n",
    "    current_sum = 0\n",
    "    for individual in population:\n",
    "        current_sum += individual[1]\n",
    "        if current_sum > rand_num:\n",
    "            return individual\n",
    "\n",
    "def mutate(child, mutation_rate):\n",
    "    for i in range(len(child)):\n",
    "        if random.random() < mutation_rate:\n",
    "            child = child[:i] + str(1 - int(child[i])) + child[i+1:]\n",
    "    return child\n",
    "\n",
    "def crossover(parent1, parent2, crossover_rate):\n",
    "    if random.random() < crossover_rate:\n",
    "        crossover_point = random.randint(0, len(parent1)-1)\n",
    "        child1 = parent1[:crossover_point] + parent2[crossover_point:]\n",
    "        child2 = parent2[:crossover_point] + parent1[crossover_point:]\n",
    "        return child1, child2\n",
    "    else:\n",
    "        return parent1, parent2\n",
    "\n",
    "def genetic_algorithm(fitness, n_population, n_generations, mutation_rate, crossover_rate):\n",
    "    population = [(encode(random.uniform(-3, 3), random.uniform(-3, 3)), 0) for i in range(n_population)]\n",
    "    for generation in range(n_generations):\n",
    "        for i in range(n_population):\n",
    "            x, y = decode(population[i][0])\n",
    "            z = fitness(x, y)\n",
    "            population[i] = (population[i][0], z)\n",
    "        parents = [roulette_wheel_selection(population) for i in range(n_population)]\n",
    "        children = []\n",
    "        for i in range(0, n_population, 2):\n",
    "            child1, child2 = crossover(parents[i][0], parents[i+1][0], crossover_rate)\n",
    "            child1 = mutate(child1, mutation_rate)\n",
    "            child2 = mutate(child2, mutation_rate)\n",
    "            children.append((child1, 0))\n",
    "            children.append((child2, 0))\n",
    "        population = children\n",
    "    best_individual = max(population, key=lambda x: x[1])\n",
    "    x, y = decode(best_individual[0])\n",
    "    z = best_individual[1]\n",
    "    return x, y, z"
   ]
  },
  {
   "cell_type": "code",
   "execution_count": 2,
   "metadata": {},
   "outputs": [],
   "source": [
    "x, y, z = genetic_algorithm(fitness, n_population=20, n_generations=100, mutation_rate=0.04, crossover_rate = 0.9)"
   ]
  }
 ],
 "metadata": {
  "kernelspec": {
   "display_name": "homeworks",
   "language": "python",
   "name": "python3"
  },
  "language_info": {
   "codemirror_mode": {
    "name": "ipython",
    "version": 3
   },
   "file_extension": ".py",
   "mimetype": "text/x-python",
   "name": "python",
   "nbconvert_exporter": "python",
   "pygments_lexer": "ipython3",
   "version": "3.11.2"
  },
  "orig_nbformat": 4
 },
 "nbformat": 4,
 "nbformat_minor": 2
}
